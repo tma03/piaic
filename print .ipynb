{
 "cells": [
  {
   "cell_type": "code",
   "execution_count": 11,
   "metadata": {},
   "outputs": [
    {
     "name": "stdout",
     "output_type": "stream",
     "text": [
      "Enter ur age:56\n",
      "Enter ur name:hg\n",
      "my name is hg and my age is 56\n"
     ]
    }
   ],
   "source": [
    "age = input (\"Enter ur age:\")\n",
    "name = input (\"Enter ur name:\")\n",
    "print (\"my name is \" + name +\" and my age is \"+age)\n"
   ]
  },
  {
   "cell_type": "code",
   "execution_count": 14,
   "metadata": {},
   "outputs": [
    {
     "name": "stdout",
     "output_type": "stream",
     "text": [
      "my name is hg and my age is 56\n"
     ]
    }
   ],
   "source": [
    "print (\"my name is {} and my age is {}\".format(name, age))\n"
   ]
  },
  {
   "cell_type": "code",
   "execution_count": 27,
   "metadata": {},
   "outputs": [
    {
     "name": "stdout",
     "output_type": "stream",
     "text": [
      "input a value to check even or odd: 3\n",
      " a is odd\n"
     ]
    }
   ],
   "source": [
    "a =int( input (\"input a value to check even or odd: \"))\n",
    " \n",
    "\n",
    "if a % 2  == 0 :\n",
    "    print (\" a is even \")\n",
    "else:\n",
    "    print (\" a is odd\")"
   ]
  },
  {
   "cell_type": "markdown",
   "metadata": {},
   "source": []
  },
  {
   "cell_type": "markdown",
   "metadata": {},
   "source": []
  },
  {
   "cell_type": "code",
   "execution_count": null,
   "metadata": {},
   "outputs": [],
   "source": []
  }
 ],
 "metadata": {
  "kernelspec": {
   "display_name": "Python 3",
   "language": "python",
   "name": "python3"
  },
  "language_info": {
   "codemirror_mode": {
    "name": "ipython",
    "version": 3
   },
   "file_extension": ".py",
   "mimetype": "text/x-python",
   "name": "python",
   "nbconvert_exporter": "python",
   "pygments_lexer": "ipython3",
   "version": "3.7.3"
  }
 },
 "nbformat": 4,
 "nbformat_minor": 2
}
